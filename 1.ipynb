{
 "cells": [
  {
   "cell_type": "markdown",
   "source": [
    "[MENU](../README.md)\n",
    "\n",
    "<br>\n",
    "\n",
    "Higor Grigorio dos Santos\n",
    "\n",
    "<center>\n",
    "\n",
    "## Inteligência Artificial - 2023\n",
    "\n",
    "<br>\n",
    "\n",
    "# Lista de Exercícios 1 - Prolog\n",
    "\n",
    "</center>"
   ],
   "metadata": {
    "collapsed": false
   }
  },
  {
   "cell_type": "markdown",
   "source": [
    "1.1. Digite o Programa 1.1, incluindo as regras que definem as relações avô e\n",
    "irmão, e realize as seguintes consultas:\n",
    "\n",
    "a) Quem são os filhos de Adão?\n",
    "b) Quem são os netos de Adão?\n",
    "c) Quem são os tios de Enos?"
   ],
   "metadata": {
    "collapsed": false
   }
  },
  {
   "cell_type": "markdown",
   "source": [
    "\n",
    "a). Os filhos são o inverso das afirmações de pai, logo, é filho de X, Y tal que, pai(Y, X).\n",
    "Os filhos são encontrados pela seguinte consulta:\n",
    "\n",
    "```\n",
    "    filho(X, Y) :- pai(Y, X).\n",
    "```\n",
    "\n",
    "logo, os filho de Adão são dados por, filho(X, adão).\n",
    "\n",
    "```\n",
    "    filho(X, adão).\n",
    "    X = cain ;\n",
    "    X = abel ;\n",
    "    X = seth.\n",
    "```\n"
   ],
   "metadata": {
    "collapsed": false
   }
  },
  {
   "cell_type": "markdown",
   "source": [
    "b). Os netos são dados pelos filhos dos filhos, dessa maneira, é possível utilizar a consulta filho definida anteriormente para consultar os netos:\n",
    "\n",
    "```\n",
    "    neto(X, Y) :- filho(Z, Y), filho(X, Z).\n",
    "```\n",
    "\n",
    "assim, obtemos os netos para Adão:\n",
    "\n",
    "```\n",
    "    neto(X, adão).\n",
    "    X = enos.\n",
    "```"
   ],
   "metadata": {
    "collapsed": false
   }
  },
  {
   "cell_type": "markdown",
   "source": [
    "c). Os tios podem ser definidos como irmãos do pai, logo é necessário definir a relação irmão:\n",
    "\n",
    "```\n",
    "    irmão(X, Y) :- pai(Z, X), pai(Z, Y), X \\= Y.\n",
    "```\n",
    "\n",
    "e a relação tio:\n",
    "\n",
    "```\n",
    "    tio(X, Y) :- pai(Z, Y), irmão(X, Z).\n",
    "```\n",
    "\n",
    "assim, obtemos os tios de Enos:\n",
    "\n",
    "```\n",
    "    tio(X, enos).\n",
    "    X = cain ;\n",
    "    X = abel ;\n",
    "    false.\n",
    "```\n",
    "\n",
    "false é retornado durante a consulta, dado que não há mais tios para Enos."
   ],
   "metadata": {
    "collapsed": false
   }
  },
  {
   "cell_type": "markdown",
   "source": [
    "1.2. Considere a árvore genealógica a seguir:\n",
    "a) Usando fatos, defina as relações pai e mãe. Em seguida, consulte o sistema para ver se suas definições estão corretas.\n",
    "b) Acrescente ao programa os fatos necessários para definir as relações homem e mulher. Por exemplo, para estabelecer que Ana é mulher e Ivo é homem, acrescente os fatos mulher(ana) e homem(ivo).\n",
    "c) Usando duas regras, defina a relação gerou(X,Y) tal que X gerou Y. Se X é pai ou mãe de Y. Faça consultas para verificar se sua definição está correta. Por exemplo, para a consulta gerou(X,eva) o sistema deverá apresentar as respostas X = ana e X = ivo.\n",
    "d) Usando relações já existentes, crie regras para definir as relações filho, filha, tio, tia, primo, prima, avô e avó. Para cada relação, desenhe o grafo de relacionamentos, codifique a regra correspondente e faça consultas para verificar a corretude."
   ],
   "metadata": {
    "collapsed": false
   }
  },
  {
   "cell_type": "markdown",
   "source": [
    "a). Definindo as relações pai e mãe:\n",
    "\n",
    "```\n",
    "    pai(gil, ary).\n",
    "    pai(gil, clo).\n",
    "    pai(gil, rai).\n",
    "    pai(rai, noe).\n",
    "    pai(ary, gal).\n",
    "    mãe(eva, noe).\n",
    "    mãe(lia, gal).\n",
    "    mãe(bia, ary).\n",
    "    mãe(bia, clo).\n",
    "    mãe(bia, rai).\n",
    "```\n",
    "\n",
    "Consultando o sistema:\n",
    "\n",
    "```\n",
    "    pai(X, eva).\n",
    "    X = ivo.\n",
    "    mãe(X, eva).\n",
    "    X = ana.\n",
    "```"
   ],
   "metadata": {
    "collapsed": false
   }
  },
  {
   "cell_type": "markdown",
   "source": [
    "b). Definindo as relações homem e mulher:\n",
    "\n",
    "```\n",
    "    homem(ivo).\n",
    "    homem(gil).\n",
    "    homem(rai).\n",
    "    homem(noe).\n",
    "    homem(clo).\n",
    "    mulher(ana).\n",
    "    mulher(eva).\n",
    "    mulher(bia).\n",
    "    mulher(lia).\n",
    "    mulher(gal).\n",
    "```"
   ],
   "metadata": {
    "collapsed": false
   }
  },
  {
   "cell_type": "markdown",
   "source": [
    "c). Definindo a relação gerou:\n",
    "\n",
    "```\n",
    "    gerou(X, Y) :- pai(X, Y).\n",
    "    gerou(X, Y) :- mãe(X, Y).\n",
    "```\n",
    "\n",
    "Consultando o sistema:\n",
    "\n",
    "```\n",
    "    gerou(X, eva).\n",
    "    X = ivo ;\n",
    "    X = ana.\n",
    "```"
   ],
   "metadata": {
    "collapsed": false
   }
  },
  {
   "cell_type": "markdown",
   "source": [
    "d). Filhos são inverso das relações pai e mãe, logo é necessário definir as relações filho e filha para mãe e pai:\n",
    "\n",
    "```\n",
    "    filho(X, Y) :- pai(Y, X), homem(X).\n",
    "    filho(X, Y) :- mãe(Y, X), homem(X).\n",
    "\n",
    "    filha(X, Y) :- pai(Y, X), mulher(X).\n",
    "    filha(X, Y) :- mãe(Y, X), mulher(X).\n",
    "```"
   ],
   "metadata": {
    "collapsed": false
   }
  },
  {
   "cell_type": "markdown",
   "source": [
    "\n",
    "Tios e tias são irmãos do pai ou da mãe. Y é irmão X se pai de X é pai e Y, Y é diferente de X e X é homem, dessa forma,\n",
    "antes de tudo é necessário definir irmão:\n",
    "\n",
    "```\n",
    "    irmão(X, Y) :- pai(Z, X), pai(Z, Y), homem(X), X \\= Y.\n",
    "```\n",
    "\n",
    "para simplificar soluções, vamos definir irmã também, logo,\n",
    "\n",
    "```\n",
    "    irmã(X, Y) :- mãe(Z, X), mãe(Z, Y), mulher(X), X \\= Y.\n",
    "```\n",
    "\n",
    "assim definisse a relação tio\n",
    "\n",
    "```\n",
    "    tio(X, Y) :- (irmão(X, Z), (pai(Z, Y); mãe(Z, Y))).\n",
    "```\n",
    "\n",
    "e tia\n",
    "\n",
    "```\n",
    "    tia(X, Y) :- (irmã(X, Z), (pai(Z, Y); mãe(Z, Y))).\n",
    "```"
   ],
   "metadata": {
    "collapsed": false
   }
  },
  {
   "cell_type": "markdown",
   "source": [
    "\n",
    "Primos e primas são filhos dos tios e tias, logo, é possível utilizar a relação filho para definir\n",
    "\n",
    "```\n",
    "    primo(X, Y) :- filho(X, Z), (tio(Z, Y); tia(Z, Y)).\n",
    "```\n",
    "\n",
    "e filha para definir prima\n",
    "\n",
    "```\n",
    "    prima(X, Y) :- filha(X, Z), (tio(Z, Y); tia(Z, Y)).\n",
    "```"
   ],
   "metadata": {
    "collapsed": false
   }
  },
  {
   "cell_type": "markdown",
   "source": [
    "\n",
    "X é avô de Y, se Z é pai de Y, tal que Z é filho de X, logo,\n",
    "\n",
    "```\n",
    "    avô(X, Y) :- pai(X, Z), (pai(Z, Y); mãe(Z, Y)).\n",
    "```\n",
    "\n",
    "e avó é definido de maneira análoga, tal que Z é mãe de Y:\n",
    "\n",
    "```\n",
    "    avó(X, Y) :- mãe(X, Z), (pai(Z, Y); mãe(Z, Y)).\n",
    "```\n"
   ],
   "metadata": {
    "collapsed": false
   }
  },
  {
   "cell_type": "markdown",
   "source": [
    "Realizando testes:\n",
    "\n",
    "```\n",
    "    filho(X, gil).\n",
    "    X = ary ;\n",
    "    X = rai ;\n",
    "    false.\n",
    "\n",
    "    filha(X, gil).\n",
    "    X = clo ;\n",
    "    false.\n",
    "\n",
    "    prima(X, noe).\n",
    "    X = gal ;\n",
    "    false.\n",
    "\n",
    "    primo(X, gal).\n",
    "    X = noe ;\n",
    "    false.\n",
    "\n",
    "    tio(X, noe).\n",
    "    X = ary ;\n",
    "    false.\n",
    "\n",
    "    tia(X, noe).\n",
    "    X = clo ;\n",
    "    false.\n",
    "\n",
    "    avô(X, noe).\n",
    "    X = gil ;\n",
    "    X = ivo.\n",
    "\n",
    "    avó(X, noe).\n",
    "    X = bia ;\n",
    "    X = ana.\n",
    "```"
   ],
   "metadata": {
    "collapsed": false
   }
  }
 ],
 "metadata": {
  "kernelspec": {
   "display_name": "Python 3",
   "language": "python",
   "name": "python3"
  },
  "language_info": {
   "codemirror_mode": {
    "name": "ipython",
    "version": 2
   },
   "file_extension": ".py",
   "mimetype": "text/x-python",
   "name": "python",
   "nbconvert_exporter": "python",
   "pygments_lexer": "ipython2",
   "version": "2.7.6"
  }
 },
 "nbformat": 4,
 "nbformat_minor": 0
}
