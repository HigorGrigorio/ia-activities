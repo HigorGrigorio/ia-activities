{
 "cells": [
  {
   "cell_type": "markdown",
   "source": [
    "Higor Grigorio dos Santos\n",
    "\n",
    "<center>\n",
    "\n",
    "## Lista Prolog 4\n",
    "\n",
    "</center>"
   ],
   "metadata": {
    "collapsed": false
   }
  },
  {
   "cell_type": "markdown",
   "source": [
    "### 5.1\n",
    "Defina o predicado $último(L, U)$, que determina o último item $U$ numa lista $L$. Por exemplo, $último([a,b,c],U)$, resulta em $U=c$."
   ],
   "metadata": {
    "collapsed": false
   }
  },
  {
   "cell_type": "markdown",
   "source": [
    "```prolog\n",
    "ultimo([U], U).\n",
    "ultimo([_|T], U) :- ultimo(T, U).\n",
    "```"
   ],
   "metadata": {
    "collapsed": false
   }
  },
  {
   "cell_type": "markdown",
   "source": [
    "### 5.2\n",
    " Defina o predicado $tam(L, N)$, que determina o número de itens $N$ existente numa lista $L$. Por exemplo, $tam([a,b,c],N)$, resulta em $N=3$.\n"
   ],
   "metadata": {
    "collapsed": false
   }
  },
  {
   "cell_type": "markdown",
   "source": [
    "```prolog\n",
    "tam([], 0).\n",
    "tam([_|T], N) :- tam(T, N1), N is N1 + 1.\n",
    "```"
   ],
   "metadata": {
    "collapsed": false
   }
  },
  {
   "cell_type": "markdown",
   "source": [
    "### 5.3\n",
    "Defina o predicado $soma(L, S)$, que determina a soma $S$ dos itens de uma lista $L$. Por exemplo, $ soma([4,9,1],S)$ resulta em $S=14$."
   ],
   "metadata": {
    "collapsed": false
   }
  },
  {
   "cell_type": "markdown",
   "source": [
    "```prolog\n",
    "soma([], 0).\n",
    "soma([H|T], S) :- soma(T, S1), S is S1 + H.\n",
    "```"
   ],
   "metadata": {
    "collapsed": false
   }
  },
  {
   "cell_type": "markdown",
   "source": [
    "### 5.4\n",
    "Defina o predicado $máx(L, M)$ que determina o item máximo $M$ na lista $L$.\n",
    "Por exemplo, $máx[4,9,1],M)$ resulta em $M=9$."
   ],
   "metadata": {
    "collapsed": false
   }
  },
  {
   "cell_type": "markdown",
   "source": [
    "```prolog\n",
    "max([M], M).\n",
    "max([H|T], M) :- max(T, M1), M is max(H, M1).\n",
    "```"
   ],
   "metadata": {
    "collapsed": false
   }
  },
  {
   "cell_type": "markdown",
   "source": [
    "### 5.5\n",
    "Usando o predicado $anexa$, defina o predicado $inv(L,R)$ que inverte a lista $L$. Por exemplo, $inv([b, c, a], R)$ resulta em $R=[a,c,b]$."
   ],
   "metadata": {
    "collapsed": false
   }
  },
  {
   "cell_type": "markdown",
   "source": [
    "```prolog\n",
    "anexa([], L, L).\n",
    "anexa([H|T], L, [H|R]) :- anexa(T, L, R).\n",
    "```"
   ],
   "metadata": {
    "collapsed": false
   }
  },
  {
   "cell_type": "markdown",
   "source": [
    "```prolog\n",
    "inv([], []).\n",
    "inv([H|T], R) :- inv(T, R1), anexa(R1, [H], R).\n",
    "```"
   ],
   "metadata": {
    "collapsed": false
   }
  },
  {
   "cell_type": "markdown",
   "source": [
    "### 5.6\n",
    "Usando o predicado $inv$, defina o predicado $sim(L)$ que verifica se uma lista é simétrica. Por exemplo, $sim([a,r,a,r,a])$ resulta em $yes$."
   ],
   "metadata": {
    "collapsed": false
   }
  },
  {
   "cell_type": "markdown",
   "source": [
    "```prolog\n",
    "sim(L) :- inv(L, L).\n",
    "```"
   ],
   "metadata": {
    "collapsed": false
   }
  },
  {
   "cell_type": "markdown",
   "source": [
    "### 5.7\n",
    "Usando a tabela $d(0,zero)$, $d(1,um)$, ..., $d(9,nove)$, defina o predicado $txt(D, P)$ que converte uma lista de dígitos numa lista de palavras. Por exemplo, $txt([7,2,1],P)$ resulta em $P=[sete,dois,um]$."
   ],
   "metadata": {
    "collapsed": false
   }
  },
  {
   "cell_type": "markdown",
   "source": [
    "Definindo a tabela:\n",
    "\n",
    "```prolog\n",
    "d(0, zero).\n",
    "d(1, um).\n",
    "d(2, dois).\n",
    "d(3, tres).\n",
    "d(4, quatro).\n",
    "d(5, cinco).\n",
    "d(6, seis).\n",
    "d(7, sete).\n",
    "d(8, oito).\n",
    "d(9, nove).\n",
    "```"
   ],
   "metadata": {
    "collapsed": false
   }
  },
  {
   "cell_type": "markdown",
   "source": [
    "Definindo o predicado:\n",
    "\n",
    "```prolog\n",
    "txt([], []).\n",
    "txt([H|T], [P|R]) :- d(H, P), txt(T, R).\n",
    "```"
   ],
   "metadata": {
    "collapsed": false
   }
  },
  {
   "cell_type": "markdown",
   "source": [
    "### 5.8\n",
    " O grafo a seguir representa um mapa, cujas cidades são representadas por letras e cujas estradas são representados por números.\n",
    "\n",
    "<center>\n",
    "\n",
    "![grafo](lista%204%20-%20grafo.png)\n",
    "\n",
    "<center/>"
   ],
   "metadata": {
    "collapsed": false
   }
  },
  {
   "cell_type": "markdown",
   "source": [
    "a) Usando o predicado $estrada(Número,Origem,Destino)$, crie um programa para representar esse mapa."
   ],
   "metadata": {
    "collapsed": false
   }
  },
  {
   "cell_type": "markdown",
   "source": [
    "R:\n",
    "```prolog\n",
    "estrada(1, a, b).\n",
    "estrada(2, a, d).\n",
    "estrada(3, b, c).\n",
    "estrada(4, c, d).\n",
    "estrada(5, b, e).\n",
    "estrada(6, c, f).\n",
    "estrada(7, d, f).\n",
    "estrada(8, e, f).\n",
    "```"
   ],
   "metadata": {
    "collapsed": false
   }
  },
  {
   "cell_type": "markdown",
   "source": [
    "b) Defina o predicado $rota(A, B, R)$, que determina uma rota $R$ (lista de estradas) que leva da cidade $A$ até a cidade $B$."
   ],
   "metadata": {
    "collapsed": false
   }
  },
  {
   "cell_type": "markdown",
   "source": [
    "R:\n",
    "```prolog\n",
    "rota(A, B, R) :- rota(A, B, [], R).\n",
    "rota(A, A, _, []).\n",
    "rota(A, B, L, [E|R]) :- estrada(E, A, C), \\+ member(E, L), rota(C, B, [E|L], R).\n",
    "```"
   ],
   "metadata": {
    "collapsed": false
   }
  },
  {
   "cell_type": "markdown",
   "source": [
    "### 5.9\n",
    "Um retângulo é representado pela estrutura $retângulo(A,B,C,D)$, cujos vértices são $A$, $B$, $C$ e $D$, nesta ordem.\n"
   ],
   "metadata": {
    "collapsed": false
   }
  },
  {
   "cell_type": "markdown",
   "source": [
    "a) Defina o predicado $regular(R)$ que resulta em yes apenas se $R$ for um retângulo cujos lados sejam verticais e horizontais."
   ],
   "metadata": {
    "collapsed": false
   }
  },
  {
   "cell_type": "markdown",
   "source": [
    "R:\n",
    "```prolog\n",
    "ponto(X, Y).\n",
    "regular(retangulo(ponto(X1, Y1), ponto(X2, Y2), ponto(X3, Y3), ponto(X4, Y4))) :-\n",
    "    X1 = X2, X3 = X4, Y1 = Y4, Y2 = Y3.\n",
    "```"
   ],
   "metadata": {
    "collapsed": false
   }
  },
  {
   "cell_type": "markdown",
   "source": [
    "b) Defina o predicado $quadrado(R)$ que resulta em yes apenas se $R$ for um retângulo cujos lados têm as mesmas medidas."
   ],
   "metadata": {
    "collapsed": false
   }
  },
  {
   "cell_type": "markdown",
   "source": [
    "R:\n",
    "```prolog\n",
    "quadrado(retangulo(ponto(X1, Y1), ponto(X2, Y2), ponto(X3, Y3), ponto(X4, Y4))) :-\n",
    "    X1 = X2, X3 = X4, Y1 = Y4, Y2 = Y3,\n",
    "    X1 = X3, Y1 = Y2.\n",
    "```"
   ],
   "metadata": {
    "collapsed": false
   }
  },
  {
   "cell_type": "markdown",
   "source": [
    "### 6.1\n",
    "Supondo que a base de dados esteja inicialmente vazia, indique qual será o seu conteúdo após terem sido executadas as seguintes consultas.\n",
    "\n",
    "a) Defina o predicado $regular(R)$ que resulta em $yes$ apenas se $R$ for\n",
    "um retângulo cujos lados sejam verticais e horizontais.\n",
    "\n",
    "R:\n",
    "```prolog\n",
    "re\n",
    "```"
   ],
   "metadata": {
    "collapsed": false
   }
  },
  {
   "cell_type": "markdown",
   "source": [
    "```prolog\n",
    "?- asserta( metal(ferro) ).\n",
    "?- assertz( metal(cobre) ).\n",
    "?- asserta( metal(ouro) ).\n",
    "?- assertz( metal(zinco) ).\n",
    "?- retract( metal(X) ).\n",
    "```\n",
    "\n",
    "R:\n",
    "```prolog\n",
    "metal(ferro).\n",
    "metal(cobre).\n",
    "metal(ouro).\n",
    "metal(zinco).\n",
    "```\n"
   ],
   "metadata": {
    "collapsed": false
   }
  },
  {
   "cell_type": "markdown",
   "source": [
    "### 6.2\n",
    "Implemente os predicados $liga$, $desliga$ e $lâmpada$ para que eles funcionem conforme indicado pelos exemplos a seguir:\n",
    "\n",
    "```prolog\n",
    "?- liga, lâmpada(X).\n",
    "X = acessa\n",
    "Yes\n",
    "?- desliga, lâmpada(X).\n",
    "X = apagada\n",
    "Yes\n",
    "```\n",
    "\n",
    "R:\n",
    "```prolog\n",
    ":- dynamic liga/0.\n",
    ":- dynamic desliga/0.\n",
    ":- dynamic lampada/1.\n",
    "\n",
    "liga :- asserta(liga).\n",
    "desliga :- retract(liga).\n",
    "lampada(acessa) :- liga.\n",
    "lampada(apagada) :- \\+ liga.\n",
    "```"
   ],
   "metadata": {
    "collapsed": false
   }
  },
  {
   "cell_type": "markdown",
   "source": [
    "### 6.3\n",
    "O predicado asserta $adiciona$ um fato à base de dados, incondicionalmente, mesmo que ele já esteja lá. Para impedir essa redundância, defina o predicado $memorize$, tal que ele seja semelhante a $asserta$, mas só adicione à base de dados fatos inéditos."
   ],
   "metadata": {
    "collapsed": false
   }
  },
  {
   "cell_type": "markdown",
   "source": [
    "```prolog\n",
    "memorize(P) :- \\+ P, asserta(P).\n",
    "```"
   ],
   "metadata": {
    "collapsed": false
   }
  },
  {
   "cell_type": "markdown",
   "source": [
    "### 6.4\n",
    "Suponha um robô capaz de andar até um certo local e pegar ou soltar objetos. Além disso, suponha que esse robô mantém numa base de dados sua posição corrente e as respectivas posições de uma série de objetos.\n",
    "Implemente os predicados $pos(Obj,Loc)$, $ande(Dest)$, $pegue(Obj)$ e $solte(Obj)$, de modo que o comportamento desse robô possa ser simulado, conforme exemplificado a seguir:"
   ],
   "metadata": {
    "collapsed": false
   }
  },
  {
   "cell_type": "markdown",
   "source": [
    "```prolog\n",
    "?- pos(O,L).\n",
    "O = robô\n",
    "L = garagem ;\n",
    "O = tv\n",
    "L = sala ;\n",
    "No\n",
    "?- pegue(tv), ande(quarto), solte(tv), ande(cozinha).\n",
    "anda de garagem até sala\n",
    "pega tv\n",
    "anda de sala até quarto\n",
    "solta tv\n",
    "anda de quarto até cozinha\n",
    "Yes\n",
    "```\n",
    "\n",
    "R:\n",
    "```prolog\n",
    ":- dynamic pos/2.\n",
    "\n",
    "pos(robô, garagem).\n",
    "pos(tv, sala).\n",
    "pos(copo, cozinha).\n",
    "pos(livro, quarto).\n",
    "\n",
    "ande(Dest) :- pos(robô, Orig), \\+ Orig = Dest, retract(pos(robô, Orig)), asserta(pos(robô, Dest)), write('anda de '), write(Orig), write(' até '), write(Dest), nl.\n",
    "\n",
    "pegue(Obj) :- pos(robô, Orig), pos(Obj, Orig), retract(pos(Obj, Orig)), asserta(pos(Obj, robô)), write('pega '), write(Obj), nl.\n",
    "\n",
    "solte(Obj) :- pos(robô, Orig), pos(Obj, robô), retract(pos(Obj, Orig)), asserta(pos(Obj, Orig)), write('solta '), write(Obj), nl.\n",
    "```"
   ],
   "metadata": {
    "collapsed": false
   }
  },
  {
   "cell_type": "markdown",
   "source": [
    "### 6.5\n",
    "Modifique o programa desenvolvido no exercício anterior de modo que, quando for solicitado ao robô pegar um objeto cuja posição é desconhecida, ele pergunte ao usuário onde está esse objeto e atualize a sua base de dados com a nova informação. Veja um exemplo:\n",
    "\n",
    "```prolog\n",
    "?- pos(O,L).\n",
    "O = robô\n",
    "L = cozinha ;\n",
    "O = tv\n",
    "L = quarto ;\n",
    "No\n",
    "?- pegue(lixo), ande(rua), solte(lixo), ande(garagem).\n",
    "Onde está lixo? quintal\n",
    "anda de cozinha até quintal\n",
    "pega lixo\n",
    "anda de quintal até rua\n",
    "solta lixo\n",
    "anda de rua até garagem\n",
    "Yes\n",
    "?- pos(O,L).\n",
    "O = robô\n",
    "L = garagem ;\n",
    "O = lixo\n",
    "L = rua ;\n",
    "O = tv\n",
    "L = quarto ;\n",
    "No\n",
    "```\n",
    "\n",
    "R:\n",
    "```prolog\n",
    ":- dynamic pos/2.\n",
    "\n",
    "pos(robô, garagem).\n",
    "pos(tv, quarto).\n",
    "pos(copo, cozinha).\n",
    "pos(livro, quarto).\n",
    "\n",
    "ande(Dest) :- pos(robô, Orig), \\+ Orig = Dest, retract(pos(robô, Orig)), asserta(pos(robô, Dest)), write('anda de '), write(Orig), write(' até '), write(Dest), nl.\n",
    "\n",
    "pegue(Obj) :- pos(robô, Orig), pos(Obj, Orig), retract(pos(Obj, Orig)), asserta(pos(Obj, robô)), write('pega '), write(Obj), nl.\n",
    "\n",
    "pegue(Obj) :- pos(robô, Orig), \\+ pos(Obj, Orig), write('Onde está '), write(Obj), write('? '), read(Orig), retract(pos(Obj, Orig)), asserta(pos(Obj, robô)), write('pega '), write(Obj), nl.\n",
    "\n",
    "solte(Obj) :- pos(robô, Orig), pos(Obj, robô), retract(pos(Obj, Orig)), asserta(pos(Obj, Orig)), write('solta '), write(Obj), nl.\n",
    "```"
   ],
   "metadata": {
    "collapsed": false
   }
  },
  {
   "cell_type": "markdown",
   "source": [
    "### 6.6\n",
    " Acrescente também ao programa do robô o predicado $leve(Obj, Loc)$, que leva um objeto até um determinado local. Por exemplo:\n",
    "\n",
    "```prolog\n",
    "?- leve(tv,sala).\n",
    "anda de garagem até quarto\n",
    "pega tv\n",
    "anda de quarto até sala\n",
    "solta tv\n",
    "Yes\n",
    "```\n",
    "\n",
    "R:\n",
    "```prolog\n",
    ":- dynamic pos/2.\n",
    "\n",
    "pos(robô, garagem).\n",
    "pos(tv, quarto).\n",
    "pos(copo, cozinha).\n",
    "pos(livro, quarto).\n",
    "\n",
    "ande(Dest) :- pos(robô, Orig), \\+ Orig = Dest, retract(pos(robô, Orig)), asserta(pos(robô, Dest)), write('anda de '), write(Orig), write(' até '), write(Dest), nl.\n",
    "\n",
    "pegue(Obj) :- pos(robô, Orig), pos(Obj, Orig), retract(pos(Obj, Orig)), asserta(pos(Obj, robô)), write('pega '), write(Obj), nl.\n",
    "\n",
    "pegue(Obj) :- pos(robô, Orig), \\+ pos(Obj, Orig), write('Onde está '), write(Obj), write('? '), read(Orig), retract(pos(Obj, Orig)), asserta(pos(Obj, robô)), write('pega '), write(Obj), nl.\n",
    "\n",
    "solte(Obj) :- pos(robô, Orig), pos(Obj, robô), retract(pos(Obj, Orig)), asserta(pos(Obj, Orig)), write('solta '), write(Obj), nl.\n",
    "\n",
    "leve(Obj, Dest) :- pos(robô, Orig), pos(Obj, Orig), \\+ Orig = Dest, retract(pos(Obj, Orig)), asserta(pos(Obj, robô)), write('anda de '), write(Orig), write(' até '), write(Dest), nl, write('pega '), write(Obj), nl, write('anda de '), write(Dest), write(' até '), write(Dest), nl, write('solta '), write(Obj), nl.\n",
    "```"
   ],
   "metadata": {
    "collapsed": false
   }
  }
 ],
 "metadata": {
  "kernelspec": {
   "display_name": "Python 3",
   "language": "python",
   "name": "python3"
  },
  "language_info": {
   "codemirror_mode": {
    "name": "ipython",
    "version": 2
   },
   "file_extension": ".py",
   "mimetype": "text/x-python",
   "name": "python",
   "nbconvert_exporter": "python",
   "pygments_lexer": "ipython2",
   "version": "2.7.6"
  }
 },
 "nbformat": 4,
 "nbformat_minor": 0
}
