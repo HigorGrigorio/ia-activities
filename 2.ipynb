{
 "cells": [
  {
   "cell_type": "markdown",
   "source": [
    "[MENU](../README.md)\n",
    "\n",
    "<br>\n",
    "\n",
    "Higor Grigorio dos Santos\n",
    "\n",
    "<center>\n",
    "\n",
    "# Lista 2 - Prolog\n",
    "\n",
    "</center>"
   ],
   "metadata": {
    "collapsed": false
   }
  },
  {
   "cell_type": "markdown",
   "source": [
    "\n",
    "2.1. Inclua no Programa 2.1 uma regra para o predicado dens (P, D), que\n",
    "relaciona cada país P à sua densidade demográfica correspondente D.\n",
    "Em seguida, faça consultas para descobrir:\n",
    "\n",
    "a) qual a densidade demográfica de cada um dos países;\n",
    "b) se a India é mais populosa que a China."
   ],
   "metadata": {
    "collapsed": false
   }
  },
  {
   "cell_type": "markdown",
   "source": [
    "Primeiro, é necessário adicionar a regra dens/2 ao programa 2.1:\n",
    "\n",
    "```prolog\n",
    "dens(brasil, 20).\n",
    "dens(eua, 30).\n",
    "dens(india, 10).\n",
    "dens(china, 15).\n",
    "dens(japao, 40).\n",
    "```\n",
    "<br>\n",
    "a)<br>\n",
    "\n",
    "Agora, é possível fazer as consultas:\n",
    "\n",
    "```prolog\n",
    "dens(Y, X).\n",
    "Y = brasil,\n",
    "X = 20 ;\n",
    "Y = eua,\n",
    "X = 30 ;\n",
    "Y = india,\n",
    "X = 10 ;\n",
    "Y = china,\n",
    "X = 15 ;\n",
    "Y = japao,\n",
    "X = 40.\n",
    "```\n",
    "<br>\n",
    "b)<br>\n",
    "\n",
    "```prolog\n",
    "dens(india, X), dens(china, Y), X > Y.\n",
    "false.\n",
    "```\n",
    "\n",
    "A Índia não é mais populosa que a China.\n"
   ],
   "metadata": {
    "collapsed": false
   }
  },
  {
   "cell_type": "markdown",
   "source": [
    "2.2. Inclua no Programa 2.2 as informações da tabela abaixo e faça as consultas indicadas a seguir:\n",
    "\n",
    "| Código | Nome | Salário | Dependentes |\n",
    "|--------|------|---------|-------------|\n",
    "| 4      | Leo  | 2500,35 | Lia, Noé    |\n",
    "| 5      | Clô  | 1800,00 | Eli         |\n",
    "| 6      | Gil  | 1100,00 | ...         |\n",
    "\n",
    "a) Quem tem salário entre R$ 1500,00 e R$ 3000,00?\n",
    "b) Quem não tem dependentes e ganha menos de R$ 1200,00?\n",
    "c) Quem depende de funcionário que ganha mais de R$ 1700, 00?"
   ],
   "metadata": {
    "collapsed": false
   }
  },
  {
   "cell_type": "markdown",
   "source": [
    "Primeiro, é necessário adicionar as informações da tabela ao programa 2.2:\n",
    "\n",
    "```prolog\n",
    "func(4, leo, 2500.35).\n",
    "func(5, clo, 1800.00).\n",
    "func(6, gil, 1100.00).\n",
    "\n",
    "dep(4, lia).\n",
    "dep(4, noe).\n",
    "dep(5, eli).\n",
    "```\n",
    "<br>\n",
    "a)<br>\n",
    "\n",
    "```prolog\n",
    "func(X, Y, Z), Z > 1500, Z < 3000.\n",
    "X = 4,\n",
    "Y = leo,\n",
    "Z = 2500.35 ;\n",
    "X = 5,\n",
    "Y = clo,\n",
    "Z = 1800.0 ;\n",
    "false.\n",
    "```\n",
    "<br>\n",
    "b)<br>\n",
    "\n",
    "```prolog\n",
    "func(X, Y, Z), Z < 1200, \\+ dep(X, _).\n",
    "X = 6,\n",
    "Y = gil,\n",
    "Z = 1100.0 ;\n",
    "false.\n",
    "```\n",
    "<br>\n",
    "c)<br>\n",
    "\n",
    "```prolog\n",
    "func(X, Y, Z), Z > 1700, dep(X, _).\n",
    "X = 4,\n",
    "Y = leo,\n",
    "Z = 2500.35 ;\n",
    "false.\n",
    "```"
   ],
   "metadata": {
    "collapsed": false
   }
  },
  {
   "cell_type": "markdown",
   "source": [
    "2.3. Inclua no Programa 2.3 as seguintes regras:\n",
    "\n",
    "a) Um filme é longo se tem duração superior a 150 minutos.\n",
    "b) Um filme é lançamento se foi lançado a menos de 1 ano.\n",
    "\n",
    "Programa 2.3:\n",
    "\n",
    "```prolog\n",
    "filme(Título, Gênero, Ano, Duração)\n",
    "filme('Uma linda mulher', romance, 1990, 119).\n",
    "filme('Sexto sentido', suspense, 2001, 108).\n",
    "filme('A cor púrpura', drama, 1985, 152).\n",
    "filme('Copacabana', comédia, 2001, 92).\n",
    "filme('E o vento levou', drama, 1939, 233).\n",
    "filme('Carrington', romance, 1995, 130).\n",
    "```\n",
    "<br>\n",
    "a)<br>\n",
    "\n",
    "```prolog\n",
    "longo(X) :- filme(X, _, _, Y), Y > 150.\n",
    "\n",
    "longo(X).\n",
    "X = 'E o vento levou' ;\n",
    "false.\n",
    "```\n",
    "\n",
    "b)<br>\n",
    "\n",
    "```prolog\n",
    "lancamento(X) :- filme(X, _, Y, _), 2020 - Y < 1.\n",
    "\n",
    "lancamento(X).\n",
    "X = 'Sexto sentido' ;\n",
    "X = 'Copacabana' ;\n",
    "false.\n",
    "```"
   ],
   "metadata": {
    "collapsed": false
   }
  },
  {
   "cell_type": "markdown",
   "source": [
    "2.4. Codifique um programa contendo as informações da tabela abaixo e faça\n",
    "as consultas indicadas a seguir:\n",
    "\n",
    "| Nome | Sexo | Idade | Altura | Peso |\n",
    "|------|------|-------|--------|------|\n",
    "| Ana  | fem  | 23    | 1.55   | 56.0 |\n",
    "| Bia  | fem  | 19    | 1.71   | 61.3 |\n",
    "| Ivo  | masc | 22    | 1.80   | 70.5 |\n",
    "| Lia  | fem  | 17    | 1.85   | 57.3 |\n",
    "| Eva  | fem  | 28    | 1.75   | 68.7 |\n",
    "| Ary  | masc | 25    | 1.72   | 68.9 |\n",
    "\n",
    "a) Quais são as mulheres com mais de 20 anos de idade?\n",
    "b) Quem tem pelo menos 1.70m de altura e menos de 65kg?\n",
    "c) Quais são os possíveis casais onde o homem é mais alto que a mulher?"
   ],
   "metadata": {
    "collapsed": false
   }
  },
  {
   "cell_type": "markdown",
   "source": [
    "Primeiro, é necessário adicionar as informações da tabela ao programa 2.4:\n",
    "\n",
    "```prolog\n",
    "pessoa(ana, fem, 23, 1.55, 56.0).\n",
    "pessoa(bia, fem, 19, 1.71, 61.3).\n",
    "pessoa(ivo, masc, 22, 1.80, 70.5).\n",
    "pessoa(lia, fem, 17, 1.85, 57.3).\n",
    "pessoa(eva, fem, 28, 1.75, 68.7).\n",
    "pessoa(ary, masc, 25, 1.72, 68.9).\n",
    "```\n",
    "<br>\n",
    "a)<br>\n",
    "\n",
    "```prolog\n",
    "pessoa(X, fem, Y, _, _), Y > 20.\n",
    "X = ana,\n",
    "Y = 23 ;\n",
    "X = eva,\n",
    "Y = 28.\n",
    "```\n",
    "<br>\n",
    "b)<br>\n",
    "\n",
    "```prolog\n",
    "pessoa(X, _, _, Y, Z), Y >= 1.70, Z < 65.\n",
    "X = bia,\n",
    "Y = 1.71,\n",
    "Z = 61.3 ;\n",
    "X = lia,\n",
    "Y = 1.85,\n",
    "Z = 57.3 ;\n",
    "false.\n",
    "```\n",
    "\n",
    "Casais onde o homem é mais alto que a mulher:<br>\n",
    "<br>\n",
    "c)<br>\n",
    "\n",
    "```prolog\n",
    "pessoa(X, masc, Y, Z, _), pessoa(W, fem, V, U, _), Z > U.\n",
    "X = ivo,\n",
    "Y = 22,\n",
    "Z = 1.8,\n",
    "W = ana,\n",
    "V = 23,\n",
    "U = 1.55 ;\n",
    "X = ivo,\n",
    "Y = 22,\n",
    "Z = 1.8,\n",
    "W = bia,\n",
    "V = 19,\n",
    "U = 1.71 ;\n",
    "X = ivo,\n",
    "Y = 22,\n",
    "Z = 1.8,\n",
    "W = eva,\n",
    "V = 28,\n",
    "U = 1.75 ;\n",
    "X = ary,\n",
    "Y = 25,\n",
    "Z = 1.72,\n",
    "W = ana,\n",
    "V = 23,\n",
    "U = 1.55 ;\n",
    "X = ary,\n",
    "Y = 25,\n",
    "Z = 1.72,\n",
    "W = bia,\n",
    "V = 19,\n",
    "U = 1.71 ;\n",
    "false.\n",
    "```"
   ],
   "metadata": {
    "collapsed": false
   }
  },
  {
   "cell_type": "markdown",
   "source": [
    "2.5. O peso ideal para uma modelo é no máximo 62.1*Altura–44.7. Além disso, para ser modelo, uma mulher precisa ter mais que 1.70m de altura e menos de 25 anos. Com base nessas informações, e considerando a tabela do exercício anterior, defina um predicado capaz de recuperar apenas os nomes das mulheres que podem ser modelos.\n",
    "\n",
    "Para auxiliar, foi criado o predicado `peso_ideal`:\n",
    "\n",
    "```prolog\n",
    "peso_ideal(A, P) :- P is 62.1 * A - 44.7.\n",
    "```\n",
    "\n",
    "```prolog\n",
    "pessoa(X, fem, Y, Z, _), Y < 25, Z > 1.70, peso_ideal(Z, P), Z < P.\n",
    "X = bia,\n",
    "Y = 19,\n",
    "Z = 1.71,\n",
    "P = 61.491 ;\n",
    "X = lia,\n",
    "Y = 17,\n",
    "Z = 1.85,\n",
    "P = 70.185 ;\n",
    "false.\n",
    "```F\n"
   ],
   "metadata": {
    "collapsed": false
   }
  },
  {
   "cell_type": "markdown",
   "source": [],
   "metadata": {
    "collapsed": false
   }
  }
 ],
 "metadata": {
  "kernelspec": {
   "display_name": "Python 3",
   "language": "python",
   "name": "python3"
  },
  "language_info": {
   "codemirror_mode": {
    "name": "ipython",
    "version": 2
   },
   "file_extension": ".py",
   "mimetype": "text/x-python",
   "name": "python",
   "nbconvert_exporter": "python",
   "pygments_lexer": "ipython2",
   "version": "2.7.6"
  }
 },
 "nbformat": 4,
 "nbformat_minor": 0
}
