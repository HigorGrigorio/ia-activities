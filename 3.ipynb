{
 "cells": [
  {
   "cell_type": "markdown",
   "source": [
    "[MENU](../README.md)\n",
    "\n",
    "<br>\n",
    "\n",
    "Higor Grigorio dos Santos\n",
    "\n",
    "\n",
    "<center>\n",
    "\n",
    "# Capítulo  3: Controle Procedimental\n",
    "\n",
    "</center>"
   ],
   "metadata": {
    "collapsed": false
   }
  },
  {
   "cell_type": "markdown",
   "source": [
    "## 3.1.\n",
    "O programa a seguir associa a cada pessoa seu esporte preferido.\n",
    "\n",
    "```prolog\n",
    "joga(ana,volei).\n",
    "joga(bia,tenis).\n",
    "joga(ivo,basquete).\n",
    "joga(eva,volei).\n",
    "joga(leo,tenis).\n",
    "```\n",
    "\n",
    "Suponha que desejamos consultar esse programa para encontrar um parceiro P para jogar com Leo. Então, podemos realizar essa consulta de duas formas:\n",
    "\n",
    "a) ?- joga(P,X), joga(leo,X), P\\=leo.\n",
    "b) ?- joga(leo,X), joga(P,X), P\\=leo.\n",
    "\n",
    "Desenhe as árvores de busca construídas pelo sistema ao responder cada uma dessas consultas. Qual consulta é mais eficiente, por quê?"
   ],
   "metadata": {
    "collapsed": false
   }
  },
  {
   "cell_type": "markdown",
   "source": [
    "R: A consulta b) é mais eficiente, pois ela faz a consulta mais restritiva primeiro, ou seja, ela busca primeiro o esporte que o Leo joga e depois busca quem joga esse esporte, enquanto a consulta a) busca primeiro quem joga e depois o esporte que essa pessoa joga.\n",
    "\n",
    "Arvore de busca da consulta a):\n",
    "\n",
    "```\n",
    "?- joga(P,X), joga(leo,X), P\\=leo.\n",
    "    |\n",
    "    |-- joga(ana, volei) (P = ana, X = volei)\n",
    "    |   |\n",
    "    |   |-- joga(leo, volei) (Fail) (Backtrack)\n",
    "    |\n",
    "    |-- joga(bia, tenis) (P = bia, X = tenis)\n",
    "    |   |\n",
    "    |   |-- joga(leo, tenis) (P = leo, X = tenis)\n",
    "    |   |   |\n",
    "    |   |   |-- bia\\=leo (true) (P = bia, X = tenis) (Print)\n",
    "    |\n",
    "    |-- joga(ivo, basquete) (P = ivo, X = basquete)\n",
    "    |   |\n",
    "    |   |-- joga(leo, basquete) (Fail) (Backtrack)\n",
    "    |\n",
    "    |-- joga(eva, volei) (P = eva, X = volei)\n",
    "    |   |\n",
    "    |   |-- joga(leo, volei) (Fail) (Backtrack)\n",
    "    |\n",
    "    |-- joga(leo, tenis) (P = leo, X = tenis)\n",
    "        |\n",
    "        |-- leo\\=leo (Fail) (Backtrack)\n",
    "```\n",
    "Arvore de busca da consulta b):\n",
    "\n",
    "```\n",
    "?- joga(leo, X), joga(P, X), P\\=leo.\n",
    "    |\n",
    "    |-- joga(leo, tenis) (X = tenis)\n",
    "    |   |\n",
    "    |   |-- joga(bia, tenis) (P = bia)\n",
    "    |   |   |\n",
    "    |   |   |-- bia\\=leo (true) (P = bia, X = tenis)\n",
    "    |\n",
    "    |-- joga(leo, tenis) (P = leo)\n",
    "        |\n",
    "        |-- leo\\=leo (false) (P = leo, X = tenis) (Backtrack)\n",
    "```"
   ],
   "metadata": {
    "collapsed": false
   }
  },
  {
   "cell_type": "markdown",
   "source": [
    "## 3.2.\n",
    "\n",
    "Considere o programa a seguir:\n",
    "\n",
    " O predicado num classifica números em três categorias: positivos, nulo e\n",
    "negativos. Esse predicado, da maneira como está definido, realiza retro\u0002cesso desnecessário. Explique por que isso acontece e, em seguida, utilize\n",
    "cortes para eliminar esse retrocesso.\n",
    "\n",
    "\n",
    "```prolog\n",
    "num(N,positivo) :- N>0.\n",
    "num(0,nulo).\n",
    "num(N,negativo) :- N<0.\n",
    "```\n",
    "\n",
    "R: O retrocesso desnecessário ocorre quando o Prolog, ao realizar uma consulta, encontra múltiplas cláusulas que correspondem a um predicado e, após encontrar a primeira correspondência, continua procurando outras correspondências para esse predicado, mesmo que a primeira seja suficiente para produzir a resposta desejada. Isso pode levar a uma busca mais lenta e ineficiente.\n",
    "\n",
    "No caso do predicado num/2 que classifica números em três categorias (positivos, nulo e negativos), o retrocesso desnecessário ocorre quando um número é positivo ou negativo. Após encontrar uma correspondência, o Prolog ainda verifica as outras cláusulas para determinar se há outras correspondências, o que não é necessário.\n",
    "\n",
    "Para eliminar o retrocesso desnecessário, podemos usar cortes (!) para indicar que, após uma correspondência ser encontrada, não devemos considerar outras opções. Aqui está a definição do predicado num/2 com o uso de cortes:\n",
    "\n",
    "\n",
    "```prolog\n",
    "num(N,positivo) :- N > 0, !.\n",
    "num(0,nulo) :- !.\n",
    "num(N,negativo) :- N < 0.\n",
    "```\n",
    "\n",
    "Neste caso, o corte ! é usado após cada cláusula para indicar que, uma vez que uma correspondência é encontrada, não é necessário procurar por outras correspondências para o mesmo predicado. Isso elimina o retrocesso desnecessário e torna a consulta mais eficiente. Agora, se um número for positivo, nulo ou negativo, o Prolog não buscará alternativas desnecessárias após encontrar uma correspondência adequada."
   ],
   "metadata": {
    "collapsed": false
   }
  },
  {
   "cell_type": "markdown",
   "source": [
    "## 3.3.\n",
    " Suponha que o predicado fail não existisse em Prolog. Qual das duas definições a seguir poderia ser corretamente usada para causar falhas?\n",
    "a) falha :- (1=1).\n",
    "b) falha :- (1=2).\n",
    "\n",
    "R: A opção \"a) falha :- (1=1).\" não causaria uma falha, pois \"1=1\" é uma expressão logicamente verdadeira em Prolog, e a unificação seria bem-sucedida. Portanto, a cláusula \"falha\" não falharia nesse caso. A cláusula \"falha :- (1=2).\" tenta unificar o resultado da expressão \"1=2\" com \"falha\". No entanto, como \"1=2\" é uma expressão logicamente falsa em Prolog, essa unificação falhará. Isso levará à falha da cláusula \"falha\", o que é o resultado desejado."
   ],
   "metadata": {
    "collapsed": false
   }
  },
  {
   "cell_type": "markdown",
   "source": [
    "## 3.4.\n",
    "Considere o programa a seguir:\n",
    "\n",
    "```prolog\n",
    "animal(cão).\n",
    "animal(canário).\n",
    "animal(cobra).\n",
    "animal(morcego).\n",
    "animal(gaivota).\n",
    "voa(canário).\n",
    "voa(morcego).\n",
    "voa(gaivota).\n",
    "\n",
    "dif(X,X) :- !, fail.\n",
    "dif(_,_).\n",
    "\n",
    "pássaro(X) :- animal(X), voa(X), dif(X,morcego).\n",
    "```\n",
    "Desenhe a árvore de busca necessária para responder a consulta ?- pássaro(X).\n",
    "\n",
    "Em seguida, execute o programa para ver se as respostas do sistema correspondem àquelas que você encontrou.\n",
    "\n",
    "```\n",
    "?- pássaro(X)\n",
    "    |\n",
    "    |-- animal(cão) (Fail) (Backtrack)\n",
    "    |\n",
    "    |-- animal(canário)\n",
    "    |   |\n",
    "    |   |-- voa(canário)\n",
    "    |   |   |\n",
    "    |   |   |-- dif(canário, morcego)\n",
    "    |   |   |   |\n",
    "    |   |   |   |-- fail (Cut)\n",
    "    |   |   |   |\n",
    "    |   |   |   |-- dif(canário, morcego) (Exit)\n",
    "    |   |   |\n",
    "    |   |   |-- pássaro(canário) (Exit)\n",
    "    |   |\n",
    "    |   |-- animal(cobra) (Fail) (Backtrack)\n",
    "    |   |\n",
    "    |   |-- animal(morcego)\n",
    "    |   |   |\n",
    "    |   |   |-- voa(morcego)\n",
    "    |   |   |   |\n",
    "    |   |   |   |-- dif(morcego, morcego)\n",
    "    |   |   |   |   |\n",
    "    |   |   |   |   |-- fail (Cut)\n",
    "    |   |   |   |   |\n",
    "    |   |   |   |   |-- dif(morcego, morcego) (Fail)\n",
    "    |   |   |   |\n",
    "    |   |   |   |-- pássaro(morcego) (Exit)\n",
    "    |   |   |\n",
    "    |   |   |-- animal(gaivota)\n",
    "    |   |   |   |\n",
    "    |   |   |   |-- voa(gaivota)\n",
    "    |   |   |   |   |\n",
    "    |   |   |   |   |-- dif(gaivota, morcego)\n",
    "    |   |   |   |   |   |\n",
    "    |   |   |   |   |   |-- dif(gaivota, morcego) (Exit)\n",
    "    |   |   |   |   |\n",
    "    |   |   |   |   |-- pássaro(gaivota) (Exit)\n",
    "\n",
    "X = canário ;\n",
    "X = gaivota.\n",
    "```"
   ],
   "metadata": {
    "collapsed": false
   }
  },
  {
   "cell_type": "markdown",
   "source": [
    "# 4. Capítulo 4: Programação Recursiva\n",
    "\n",
    "## 4.1.\n",
    "Defina um predicado recursivo para calcular o produto de dois números naturais usando apenas soma e subtração.\n",
    "\n",
    "```prolog\n",
    "mult(X,0,0):- X >= 0,!.\n",
    "mult(X,1,X):- X >= 0,!.\n",
    "mult(X,Y,Z):-\n",
    "            X >= 0,\n",
    "\t\t\tY >= 0,\n",
    "            Y1 is Y - 1,\n",
    "            mult(X,Y1,Z1),\n",
    "            Z is X + Z1,!.\n",
    "```\n",
    "\n",
    "Explicação: O predicado mult/3 recebe dois números naturais X e Y e retorna o produto Z. Para isso, ele usa que o produto de X e Y é igual a X somado Y vezes. Portanto, o predicado mult/3 usa recursão para calcular o produto de X e Y. Primeiro, ele verifica se X e Y são números naturais (ou seja, se são maiores ou iguais a 0). Se X e Y forem números naturais, ele verifica se Y é igual a 0 ou 1. Se for, o produto é igual a 0 ou X, respectivamente. Caso contrário, ele calcula o produto de X e Y-1 e adiciona X ao resultado. O corte! é usado para evitar o retrocesso desnecessário."
   ],
   "metadata": {
    "collapsed": false
   }
  },
  {
   "cell_type": "markdown",
   "source": [
    "## 4.2.\n",
    "Defina um predicado recursivo exibir um número natural em binário.\n",
    "\n",
    "```prolog\n",
    "bin(0, '0').\n",
    "bin(1, '1').\n",
    "\n",
    "bin(N, B) :-\n",
    "    N > 1,\n",
    "    R is N mod 2,\n",
    "    Q is N // 2,\n",
    "    bin(Q, BQ),\n",
    "    atom_concat(BQ, R, B).\n",
    "```"
   ],
   "metadata": {
    "collapsed": false
   }
  },
  {
   "cell_type": "markdown",
   "source": [
    "## 4.3.\n",
    "O grafo a seguir representa um mapa, cujas cidades são representadas por letras e cujas estradas (de sentido único) são representados por números, que indicam sua extensão em km.\n",
    "\n",
    "<center>\n",
    "\n",
    "![Grafo](lista%203%20-%204.3.png)\n",
    "\n",
    "</center>\n",
    "\n",
    "a) Usando o predicado `estrada(O,D,KM)`, crie um programa para representar esse mapa.\n",
    "b) Defina a relação transitiva `dist(A,B,D)`, que determina a distância `D` entre duas cidades `A` e `B`."
   ],
   "metadata": {
    "collapsed": false
   }
  },
  {
   "cell_type": "markdown",
   "source": [
    "R: a) O programa que representa o mapa é o seguinte:\n",
    "\n",
    "```prolog\n",
    "estrada(a,b,25).\n",
    "estrada(a,d,23).\n",
    "estrada(b,c,19).\n",
    "estrada(b,e,32).\n",
    "estrada(c,f,28).\n",
    "estrada(c,d,14).\n",
    "estrada(d,f,30).\n",
    "estrada(e,f,26).\n",
    "```\n",
    "b) A relação transitiva dist/3 é definida da seguinte forma:\n",
    "\n",
    "```prolog\n",
    "dist(A,B,D) :- estrada(A,B,D).\n",
    "dist(A,B,D) :- estrada(A,C,D1), dist(C,B,D2), D is D1 + D2.\n",
    "```\n",
    "\n",
    "teste:\n",
    "\n",
    "```\n",
    "?- dist(a,b,D).\n",
    "D = 25 ;\n",
    "false.\n",
    "\n",
    "?- dist(a,f,D).\n",
    "D = 53 ;\n",
    "false.\n",
    "```"
   ],
   "metadata": {
    "collapsed": false
   }
  }
 ],
 "metadata": {
  "kernelspec": {
   "display_name": "Python 3",
   "language": "python",
   "name": "python3"
  },
  "language_info": {
   "codemirror_mode": {
    "name": "ipython",
    "version": 2
   },
   "file_extension": ".py",
   "mimetype": "text/x-python",
   "name": "python",
   "nbconvert_exporter": "python",
   "pygments_lexer": "ipython2",
   "version": "2.7.6"
  }
 },
 "nbformat": 4,
 "nbformat_minor": 0
}
